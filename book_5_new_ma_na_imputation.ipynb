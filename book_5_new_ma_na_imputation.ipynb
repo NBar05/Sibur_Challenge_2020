{
 "cells": [
  {
   "cell_type": "code",
   "execution_count": 1,
   "metadata": {},
   "outputs": [],
   "source": [
    "import numpy as np\n",
    "import pandas as pd"
   ]
  },
  {
   "cell_type": "code",
   "execution_count": 2,
   "metadata": {},
   "outputs": [
    {
     "data": {
      "text/plain": [
       "((5808, 11), (5808, 5), (3984, 11), (3984, 5))"
      ]
     },
     "execution_count": 2,
     "metadata": {},
     "output_type": "execute_result"
    }
   ],
   "source": [
    "X_train_val = pd.read_csv('train_features.csv', header=0)\n",
    "y_train_val = pd.read_csv('train_targets.csv', header=0)\n",
    "X_test = pd.read_csv('test_features.csv', header=0)\n",
    "y_test = pd.read_csv('sample_submission.csv')\n",
    "X_train_val.shape, y_train_val.shape, X_test.shape, y_test.shape"
   ]
  },
  {
   "cell_type": "code",
   "execution_count": 3,
   "metadata": {},
   "outputs": [],
   "source": [
    "for data in [X_train_val, X_test, y_train_val, y_test]:\n",
    "    data.timestamp = pd.to_datetime(data.timestamp, format='%Y-%m-%d %H:%M:%S')"
   ]
  },
  {
   "cell_type": "code",
   "execution_count": 4,
   "metadata": {},
   "outputs": [
    {
     "data": {
      "text/plain": [
       "(Timestamp('2020-01-01 00:00:00'),\n",
       " Timestamp('2020-04-30 23:30:00'),\n",
       " Timestamp('2020-05-01 00:00:00'),\n",
       " Timestamp('2020-07-22 23:30:00'))"
      ]
     },
     "execution_count": 4,
     "metadata": {},
     "output_type": "execute_result"
    }
   ],
   "source": [
    "t_train_start, t_train_end, t_test_start, t_test_end = X_train_val.timestamp.min(), X_train_val.timestamp.max(), \\\n",
    "                                                       X_test.timestamp.min(), X_test.timestamp.max()\n",
    "t_train_start, t_train_end, t_test_start, t_test_end"
   ]
  },
  {
   "cell_type": "code",
   "execution_count": 5,
   "metadata": {},
   "outputs": [],
   "source": [
    "Xy_train_val = pd.merge(X_train_val, y_train_val, on='timestamp')\n",
    "Xy_train_val.set_index('timestamp', inplace=True)"
   ]
  },
  {
   "cell_type": "code",
   "execution_count": 6,
   "metadata": {},
   "outputs": [],
   "source": [
    "Xy_test = pd.merge(X_test, y_test, on='timestamp')\n",
    "Xy_test.set_index('timestamp', inplace=True)"
   ]
  },
  {
   "cell_type": "code",
   "execution_count": 7,
   "metadata": {},
   "outputs": [
    {
     "data": {
      "text/plain": [
       "((5808, 14), (3984, 14))"
      ]
     },
     "execution_count": 7,
     "metadata": {},
     "output_type": "execute_result"
    }
   ],
   "source": [
    "Xy_train_val.shape, Xy_test.shape"
   ]
  },
  {
   "cell_type": "code",
   "execution_count": 8,
   "metadata": {},
   "outputs": [],
   "source": [
    "Xy_train_val = Xy_train_val.mask(Xy_train_val.sub(Xy_train_val.mean()).div(Xy_train_val.std()).abs().gt(2))"
   ]
  },
  {
   "cell_type": "code",
   "execution_count": 9,
   "metadata": {},
   "outputs": [],
   "source": [
    "Xy_train_val['A_C2H6'].fillna(Xy_train_val['B_C2H6'].shift(-192), inplace=True)\n",
    "Xy_train_val['A_C3H8'].fillna(Xy_train_val['B_C3H8'].shift(-192), inplace=True)\n",
    "Xy_train_val['A_iC4H10'].fillna(Xy_train_val['B_iC4H10'].shift(-192), inplace=True)\n",
    "Xy_train_val['A_nC4H10'].fillna(Xy_train_val['B_nC4H10'].shift(-192), inplace=True)"
   ]
  },
  {
   "cell_type": "code",
   "execution_count": 10,
   "metadata": {},
   "outputs": [],
   "source": [
    "Xy = pd.concat([Xy_train_val, Xy_test], axis=0)\n",
    "Xy.fillna(Xy.rolling(24, min_periods=12).mean(), inplace=True)\n",
    "Xy.fillna(Xy.rolling(48, min_periods=12).mean(), inplace=True)\n",
    "Xy.fillna(Xy.rolling(96, min_periods=12).mean(), inplace=True)\n",
    "Xy.fillna(Xy.rolling(192, min_periods=12).mean(), inplace=True)\n",
    "Xy.fillna(Xy.rolling(384, min_periods=12).mean(), inplace=True)\n",
    "Xy.dropna(inplace=True)"
   ]
  },
  {
   "cell_type": "code",
   "execution_count": 11,
   "metadata": {},
   "outputs": [
    {
     "data": {
      "text/plain": [
       "((9571, 375),\n",
       " 375,\n",
       " Index(['A_rate', 'A_CH4', 'A_C2H6', 'A_C3H8', 'A_iC4H10', 'A_nC4H10',\n",
       "        'A_iC5H12', 'A_nC5H12', 'A_C6H14', 'B_rate',\n",
       "        ...\n",
       "        'B_rate_diff_190', 'B_rate_191', 'B_rate_diff_191', 'B_rate_192',\n",
       "        'B_rate_diff_192', 'B_rate_193', 'B_rate_diff_193', 'B_rate_194',\n",
       "        'B_rate_diff_194', 'day_of_month'],\n",
       "       dtype='object', length=375))"
      ]
     },
     "execution_count": 11,
     "metadata": {},
     "output_type": "execute_result"
    }
   ],
   "source": [
    "for name in ['A_C2H6', 'A_C3H8', 'A_iC4H10', 'A_nC4H10']:\n",
    "    for i in range(1, 4, 1):\n",
    "        Xy.loc[:, f'{name}_{i}'] = Xy.loc[:, name].shift(i)\n",
    "        Xy.loc[:, f'{name}_diff_{i}'] = Xy.loc[:, name].diff(i)\n",
    "    for i in range(176, 209, 1):\n",
    "        Xy.loc[:, f'{name}_{i}'] = Xy.loc[:, name].shift(i)\n",
    "        Xy.loc[:, f'{name}_diff_{i}'] = Xy.loc[:, name].diff(i)\n",
    "\n",
    "for name in ['A_rate', 'A_CH4', 'A_iC5H12', 'A_nC5H12', 'A_C6H14', 'B_rate']:\n",
    "    for i in range(1, 4, 1):\n",
    "        Xy.loc[:, f'{name}_1'] = Xy.loc[:, name].shift(1)\n",
    "        Xy.loc[:, f'{name}_diff_1'] = Xy.loc[:, name].diff(1)\n",
    "    for i in range(190, 195, 1):\n",
    "        Xy.loc[:, f'{name}_{i}'] = Xy.loc[:, name].shift(i)\n",
    "        Xy.loc[:, f'{name}_diff_{i}'] = Xy.loc[:, name].diff(i)\n",
    "\n",
    "Xy = Xy.iloc[212:]\n",
    "\n",
    "Xy['day_of_month'] = Xy.index.day.to_numpy()\n",
    "\n",
    "Xy.shape, len(Xy.columns), Xy.columns"
   ]
  },
  {
   "cell_type": "code",
   "execution_count": 12,
   "metadata": {},
   "outputs": [
    {
     "data": {
      "text/plain": [
       "((5587, 375), (3984, 375))"
      ]
     },
     "execution_count": 12,
     "metadata": {},
     "output_type": "execute_result"
    }
   ],
   "source": [
    "Xy_exp_train_val, Xy_exp_test = Xy.loc[t_train_start:t_train_end], Xy.loc[t_test_start:t_test_end]\n",
    "Xy_exp_train_val.shape, Xy_exp_test.shape"
   ]
  },
  {
   "cell_type": "code",
   "execution_count": 13,
   "metadata": {},
   "outputs": [
    {
     "data": {
      "text/plain": [
       "((3910, 371), (1677, 371), (3910, 4), (1677, 4))"
      ]
     },
     "execution_count": 13,
     "metadata": {},
     "output_type": "execute_result"
    }
   ],
   "source": [
    "from sklearn.model_selection import train_test_split\n",
    "X_train, X_valid, y_train, y_valid = train_test_split(Xy_exp_train_val.drop(columns=['B_C2H6', 'B_C3H8', \n",
    "                                                                                     'B_iC4H10', 'B_nC4H10']), \n",
    "                                                      Xy_exp_train_val.loc[:, ['B_C2H6', 'B_C3H8', \n",
    "                                                                               'B_iC4H10', 'B_nC4H10']], \n",
    "                                                      test_size=0.3, shuffle=False)\n",
    "X_train.shape, X_valid.shape, y_train.shape, y_valid.shape"
   ]
  },
  {
   "cell_type": "code",
   "execution_count": 14,
   "metadata": {},
   "outputs": [],
   "source": [
    "from catboost import CatBoostRegressor"
   ]
  },
  {
   "cell_type": "code",
   "execution_count": 15,
   "metadata": {},
   "outputs": [],
   "source": [
    "mape = lambda y_true, y_pred: np.mean(((y_true - y_pred) / y_true).abs().mean().values) * 100"
   ]
  },
  {
   "cell_type": "code",
   "execution_count": 16,
   "metadata": {},
   "outputs": [],
   "source": [
    "X = Xy_exp_train_val.drop(columns=['B_C2H6', 'B_C3H8', 'B_iC4H10', 'B_nC4H10'])\n",
    "y = Xy_exp_train_val.loc[:, ['B_C2H6', 'B_C3H8', 'B_iC4H10', 'B_nC4H10']]"
   ]
  },
  {
   "cell_type": "code",
   "execution_count": 17,
   "metadata": {},
   "outputs": [],
   "source": [
    "from hyperopt import hp, fmin, tpe"
   ]
  },
  {
   "cell_type": "code",
   "execution_count": 18,
   "metadata": {},
   "outputs": [],
   "source": [
    "def return_best_cb_model(X_tr, y_tr, X_test, y_test, X, y, num_of_evals = 10):\n",
    "    \n",
    "    def hyperopt_opt_score(params):\n",
    "        reg = CatBoostRegressor(allow_writing_files=False, verbose=False, **params, random_seed=42, objective='MAPE',\n",
    "                                cat_features=['day_of_month']).fit(X_tr, y_tr)\n",
    "        \n",
    "        y_pred = reg.predict(X_test)\n",
    "        \n",
    "        return np.mean(np.abs((y_test - y_pred) / y_test)) * 100\n",
    "        \n",
    "    cb_space = {\n",
    "        'eta': hp.uniform('eta', 0.01, 0.10),\n",
    "        'n_estimators': hp.choice('n_estimators', np.arange(200, 501, 50)),\n",
    "        'depth': hp.choice('depth', np.arange(2, 6, 1)),\n",
    "        'subsample': hp.uniform('subsample', 0.4, 1.0),\n",
    "        'rsm': hp.uniform('rsm', 0.2, 1.0),\n",
    "        'l2_leaf_reg': hp.choice('l2_leaf_reg', np.arange(5, 14, 2))\n",
    "    }\n",
    "    \n",
    "    best_params = fmin(fn = hyperopt_opt_score, space = cb_space, algo = tpe.suggest, max_evals = num_of_evals)\n",
    "    \n",
    "    best_params['n_estimators'] = np.arange(200, 501, 50)[best_params['n_estimators']]\n",
    "    best_params['l2_leaf_reg'] = np.arange(5, 14, 2)[best_params['l2_leaf_reg']]\n",
    "    best_params['depth'] = np.arange(2, 6, 1)[best_params['depth']]\n",
    "    \n",
    "    print(best_params)\n",
    "    \n",
    "    reg = CatBoostRegressor(allow_writing_files=False, verbose=200, **best_params, random_seed=42, objective='MAPE',\n",
    "                            cat_features=['day_of_month']).fit(X, y)\n",
    "    return reg"
   ]
  },
  {
   "cell_type": "code",
   "execution_count": 19,
   "metadata": {
    "scrolled": false
   },
   "outputs": [
    {
     "name": "stdout",
     "output_type": "stream",
     "text": [
      "100%|██████████| 150/150 [10:20<00:00,  4.14s/trial, best loss: 8.061894897408447]\n",
      "{'depth': 2, 'eta': 0.09982350203201273, 'l2_leaf_reg': 7, 'n_estimators': 400, 'rsm': 0.47953036592040454, 'subsample': 0.8679284338353084}\n",
      "0:\tlearn: 0.1904525\ttotal: 6.55ms\tremaining: 2.61s\n",
      "200:\tlearn: 0.0328449\ttotal: 1.4s\tremaining: 1.38s\n",
      "399:\tlearn: 0.0307394\ttotal: 2.79s\tremaining: 0us\n",
      "100%|██████████| 150/150 [16:01<00:00,  6.41s/trial, best loss: 1.9718424213338046]\n",
      "{'depth': 5, 'eta': 0.04057786320381367, 'l2_leaf_reg': 11, 'n_estimators': 250, 'rsm': 0.26521056492215683, 'subsample': 0.7647150167265689}\n",
      "0:\tlearn: 0.0296220\ttotal: 11.2ms\tremaining: 2.79s\n",
      "200:\tlearn: 0.0129965\ttotal: 3.86s\tremaining: 942ms\n",
      "249:\tlearn: 0.0124665\ttotal: 4.83s\tremaining: 0us\n",
      "100%|██████████| 150/150 [11:59<00:00,  4.79s/trial, best loss: 1.5734464285448069]\n",
      "{'depth': 2, 'eta': 0.012980882354858187, 'l2_leaf_reg': 13, 'n_estimators': 350, 'rsm': 0.8376328810080351, 'subsample': 0.4043795988987432}\n",
      "0:\tlearn: 0.0279819\ttotal: 8.26ms\tremaining: 2.88s\n",
      "200:\tlearn: 0.0142139\ttotal: 1.76s\tremaining: 1.31s\n",
      "349:\tlearn: 0.0124811\ttotal: 3.04s\tremaining: 0us\n",
      "100%|██████████| 150/150 [11:31<00:00,  4.61s/trial, best loss: 0.9144084424460396]\n",
      "{'depth': 2, 'eta': 0.04822964391693002, 'l2_leaf_reg': 5, 'n_estimators': 200, 'rsm': 0.4794490049807264, 'subsample': 0.6957556887599998}\n",
      "0:\tlearn: 0.0236836\ttotal: 6.1ms\tremaining: 1.21s\n",
      "199:\tlearn: 0.0085533\ttotal: 1.3s\tremaining: 0us\n"
     ]
    }
   ],
   "source": [
    "models = {}\n",
    "for col in y.columns:\n",
    "    models[col] = return_best_cb_model(X_train, y_train[col], X_valid, y_valid[col], X, y[col], num_of_evals = 150)"
   ]
  },
  {
   "cell_type": "code",
   "execution_count": 25,
   "metadata": {},
   "outputs": [
    {
     "data": {
      "text/plain": [
       "((3910,), (1677,), (5587,))"
      ]
     },
     "execution_count": 25,
     "metadata": {},
     "output_type": "execute_result"
    }
   ],
   "source": [
    "y_extra = Xy_exp_train_val[['B_C2H6', 'B_C3H8', 'B_iC4H10', 'B_nC4H10']].sum(axis=1)\n",
    "y_train_extra, y_valid_extra = train_test_split(y_extra, test_size=0.3, shuffle=False)\n",
    "y_train_extra.shape, y_valid_extra.shape, y_extra.shape"
   ]
  },
  {
   "cell_type": "code",
   "execution_count": 26,
   "metadata": {},
   "outputs": [
    {
     "name": "stdout",
     "output_type": "stream",
     "text": [
      "100%|██████████| 150/150 [19:10<00:00,  7.67s/trial, best loss: 1.405248755249903]\n",
      "{'depth': 5, 'eta': 0.023661570346674408, 'l2_leaf_reg': 5, 'n_estimators': 300, 'rsm': 0.3512569471197134, 'subsample': 0.9091246391825285}\n",
      "0:\tlearn: 0.0169962\ttotal: 16ms\tremaining: 4.78s\n",
      "200:\tlearn: 0.0081618\ttotal: 4.79s\tremaining: 2.36s\n",
      "299:\tlearn: 0.0075644\ttotal: 7.12s\tremaining: 0us\n"
     ]
    }
   ],
   "source": [
    "extra_model = return_best_cb_model(X_train, y_train_extra, X_valid, y_valid_extra, X, y_extra, num_of_evals = 150)"
   ]
  },
  {
   "cell_type": "code",
   "execution_count": 28,
   "metadata": {},
   "outputs": [],
   "source": [
    "y_pred_extra = extra_model.predict(X_test)"
   ]
  },
  {
   "cell_type": "code",
   "execution_count": 38,
   "metadata": {},
   "outputs": [],
   "source": [
    "y_pred_e = y_pred.copy()"
   ]
  },
  {
   "cell_type": "code",
   "execution_count": 22,
   "metadata": {},
   "outputs": [],
   "source": [
    "X_test = Xy_exp_test.drop(columns=['B_C2H6', 'B_C3H8', 'B_iC4H10', 'B_nC4H10'])\n",
    "y_pred = Xy_exp_test.loc[:, ['B_C2H6', 'B_C3H8', 'B_iC4H10', 'B_nC4H10']].copy()\n",
    "for col in y_pred.columns:\n",
    "    y_pred[col] = models[col].predict(X_test)"
   ]
  },
  {
   "cell_type": "code",
   "execution_count": 39,
   "metadata": {},
   "outputs": [],
   "source": [
    "y_pred_e.B_nC4H10 = y_pred_extra - y_pred.B_C3H8.values - y_pred.B_iC4H10.values - y_pred.B_C2H6.values"
   ]
  },
  {
   "cell_type": "code",
   "execution_count": 40,
   "metadata": {},
   "outputs": [],
   "source": [
    "y_pred_e.to_csv('submission_15.csv')"
   ]
  }
 ],
 "metadata": {
  "kernelspec": {
   "display_name": "Python 3",
   "language": "python",
   "name": "python3"
  },
  "language_info": {
   "codemirror_mode": {
    "name": "ipython",
    "version": 3
   },
   "file_extension": ".py",
   "mimetype": "text/x-python",
   "name": "python",
   "nbconvert_exporter": "python",
   "pygments_lexer": "ipython3",
   "version": "3.8.1"
  }
 },
 "nbformat": 4,
 "nbformat_minor": 4
}
