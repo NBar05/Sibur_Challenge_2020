{
 "cells": [
  {
   "cell_type": "code",
   "execution_count": 1,
   "metadata": {},
   "outputs": [],
   "source": [
    "import numpy as np\n",
    "import pandas as pd"
   ]
  },
  {
   "cell_type": "code",
   "execution_count": 2,
   "metadata": {},
   "outputs": [
    {
     "data": {
      "text/plain": [
       "((5808, 11), (5808, 5), (3984, 11), (3984, 5))"
      ]
     },
     "execution_count": 2,
     "metadata": {},
     "output_type": "execute_result"
    }
   ],
   "source": [
    "X_train_val = pd.read_csv('train_features.csv', header=0)\n",
    "y_train_val = pd.read_csv('train_targets.csv', header=0)\n",
    "X_test = pd.read_csv('test_features.csv', header=0)\n",
    "y_test = pd.read_csv('sample_submission.csv')\n",
    "X_train_val.shape, y_train_val.shape, X_test.shape, y_test.shape"
   ]
  },
  {
   "cell_type": "code",
   "execution_count": 3,
   "metadata": {},
   "outputs": [],
   "source": [
    "for data in [X_train_val, X_test, y_train_val, y_test]:\n",
    "    data.timestamp = pd.to_datetime(data.timestamp, format='%Y-%m-%d %H:%M:%S')"
   ]
  },
  {
   "cell_type": "code",
   "execution_count": 4,
   "metadata": {},
   "outputs": [
    {
     "data": {
      "text/plain": [
       "(Timestamp('2020-01-01 00:00:00'),\n",
       " Timestamp('2020-04-30 23:30:00'),\n",
       " Timestamp('2020-05-01 00:00:00'),\n",
       " Timestamp('2020-07-22 23:30:00'))"
      ]
     },
     "execution_count": 4,
     "metadata": {},
     "output_type": "execute_result"
    }
   ],
   "source": [
    "t_train_start, t_train_end, t_test_start, t_test_end = X_train_val.timestamp.min(), X_train_val.timestamp.max(), \\\n",
    "                                                       X_test.timestamp.min(), X_test.timestamp.max()\n",
    "t_train_start, t_train_end, t_test_start, t_test_end"
   ]
  },
  {
   "cell_type": "code",
   "execution_count": 5,
   "metadata": {},
   "outputs": [],
   "source": [
    "Xy_train_val = pd.merge(X_train_val, y_train_val, on='timestamp')\n",
    "Xy_train_val.set_index('timestamp', inplace=True)"
   ]
  },
  {
   "cell_type": "code",
   "execution_count": 6,
   "metadata": {},
   "outputs": [],
   "source": [
    "Xy_test = pd.merge(X_test, y_test, on='timestamp')\n",
    "Xy_test.set_index('timestamp', inplace=True)"
   ]
  },
  {
   "cell_type": "code",
   "execution_count": 7,
   "metadata": {},
   "outputs": [
    {
     "data": {
      "text/plain": [
       "((5808, 14), (3984, 14))"
      ]
     },
     "execution_count": 7,
     "metadata": {},
     "output_type": "execute_result"
    }
   ],
   "source": [
    "Xy_train_val.shape, Xy_test.shape"
   ]
  },
  {
   "cell_type": "code",
   "execution_count": 8,
   "metadata": {},
   "outputs": [],
   "source": [
    "Xy_train_val = Xy_train_val.mask(Xy_train_val.sub(Xy_train_val.mean()).div(Xy_train_val.std()).abs().gt(2))"
   ]
  },
  {
   "cell_type": "code",
   "execution_count": 9,
   "metadata": {},
   "outputs": [],
   "source": [
    "Xy_train_val['A_C2H6'].fillna(Xy_train_val['B_C2H6'].shift(-192), inplace=True)\n",
    "Xy_train_val['A_C3H8'].fillna(Xy_train_val['B_C3H8'].shift(-192), inplace=True)\n",
    "Xy_train_val['A_iC4H10'].fillna(Xy_train_val['B_iC4H10'].shift(-192), inplace=True)\n",
    "Xy_train_val['A_nC4H10'].fillna(Xy_train_val['B_nC4H10'].shift(-192), inplace=True)"
   ]
  },
  {
   "cell_type": "code",
   "execution_count": 10,
   "metadata": {},
   "outputs": [
    {
     "data": {
      "text/plain": [
       "((9580, 375),\n",
       " 375,\n",
       " Index(['A_rate', 'A_CH4', 'A_C2H6', 'A_C3H8', 'A_iC4H10', 'A_nC4H10',\n",
       "        'A_iC5H12', 'A_nC5H12', 'A_C6H14', 'B_rate',\n",
       "        ...\n",
       "        'B_rate_diff_190', 'B_rate_191', 'B_rate_diff_191', 'B_rate_192',\n",
       "        'B_rate_diff_192', 'B_rate_193', 'B_rate_diff_193', 'B_rate_194',\n",
       "        'B_rate_diff_194', 'day_of_month'],\n",
       "       dtype='object', length=375))"
      ]
     },
     "execution_count": 10,
     "metadata": {},
     "output_type": "execute_result"
    }
   ],
   "source": [
    "Xy = pd.concat([Xy_train_val, Xy_test], axis=0)\n",
    "\n",
    "for name in ['A_C2H6', 'A_C3H8', 'A_iC4H10', 'A_nC4H10']:\n",
    "    for i in range(1, 4, 1):\n",
    "        Xy.loc[:, f'{name}_{i}'] = Xy.loc[:, name].shift(i)\n",
    "        Xy.loc[:, f'{name}_diff_{i}'] = Xy.loc[:, name].diff(i)\n",
    "    for i in range(176, 209, 1):\n",
    "        Xy.loc[:, f'{name}_{i}'] = Xy.loc[:, name].shift(i)\n",
    "        Xy.loc[:, f'{name}_diff_{i}'] = Xy.loc[:, name].diff(i)\n",
    "\n",
    "for name in ['A_rate', 'A_CH4', 'A_iC5H12', 'A_nC5H12', 'A_C6H14', 'B_rate']:\n",
    "    for i in range(1, 4, 1):\n",
    "        Xy.loc[:, f'{name}_1'] = Xy.loc[:, name].shift(1)\n",
    "        Xy.loc[:, f'{name}_diff_1'] = Xy.loc[:, name].diff(1)\n",
    "    for i in range(190, 195, 1):\n",
    "        Xy.loc[:, f'{name}_{i}'] = Xy.loc[:, name].shift(i)\n",
    "        Xy.loc[:, f'{name}_diff_{i}'] = Xy.loc[:, name].diff(i)\n",
    "\n",
    "Xy = Xy.iloc[212:]\n",
    "\n",
    "Xy['day_of_month'] = Xy.index.day.to_numpy()\n",
    "\n",
    "Xy.shape, len(Xy.columns), Xy.columns"
   ]
  },
  {
   "cell_type": "code",
   "execution_count": 11,
   "metadata": {},
   "outputs": [
    {
     "data": {
      "text/plain": [
       "((5596, 375), (3984, 375))"
      ]
     },
     "execution_count": 11,
     "metadata": {},
     "output_type": "execute_result"
    }
   ],
   "source": [
    "Xy_exp_train_val, Xy_exp_test = Xy.loc[t_train_start:t_train_end], Xy.loc[t_test_start:t_test_end]\n",
    "Xy_exp_train_val.shape, Xy_exp_test.shape"
   ]
  },
  {
   "cell_type": "code",
   "execution_count": 12,
   "metadata": {},
   "outputs": [
    {
     "name": "stderr",
     "output_type": "stream",
     "text": [
      "/Library/Frameworks/Python.framework/Versions/3.8/lib/python3.8/site-packages/pandas/core/generic.py:6245: SettingWithCopyWarning: \n",
      "A value is trying to be set on a copy of a slice from a DataFrame\n",
      "\n",
      "See the caveats in the documentation: https://pandas.pydata.org/pandas-docs/stable/user_guide/indexing.html#returning-a-view-versus-a-copy\n",
      "  self._update_inplace(new_data)\n"
     ]
    }
   ],
   "source": [
    "values_for_filling_na = Xy_exp_train_val.mean(axis=0).values\n",
    "for i, col in enumerate(Xy_exp_train_val.columns):\n",
    "    Xy_exp_train_val[col].fillna(values_for_filling_na[i], inplace=True)\n",
    "    Xy_exp_test[col].fillna(values_for_filling_na[i], inplace=True)"
   ]
  },
  {
   "cell_type": "code",
   "execution_count": 13,
   "metadata": {},
   "outputs": [
    {
     "data": {
      "text/plain": [
       "((3917, 371), (1679, 371), (3917, 4), (1679, 4))"
      ]
     },
     "execution_count": 13,
     "metadata": {},
     "output_type": "execute_result"
    }
   ],
   "source": [
    "from sklearn.model_selection import train_test_split\n",
    "X_train, X_valid, y_train, y_valid = train_test_split(Xy_exp_train_val.drop(columns=['B_C2H6', 'B_C3H8', \n",
    "                                                                                     'B_iC4H10', 'B_nC4H10']), \n",
    "                                                      Xy_exp_train_val.loc[:, ['B_C2H6', 'B_C3H8', \n",
    "                                                                               'B_iC4H10', 'B_nC4H10']], \n",
    "                                                      test_size=0.3, shuffle=False)\n",
    "X_train.shape, X_valid.shape, y_train.shape, y_valid.shape"
   ]
  },
  {
   "cell_type": "code",
   "execution_count": 14,
   "metadata": {},
   "outputs": [],
   "source": [
    "from catboost import CatBoostRegressor"
   ]
  },
  {
   "cell_type": "code",
   "execution_count": 15,
   "metadata": {},
   "outputs": [],
   "source": [
    "mape = lambda y_true, y_pred: np.mean(((y_true - y_pred) / y_true).abs().mean().values) * 100"
   ]
  },
  {
   "cell_type": "code",
   "execution_count": 16,
   "metadata": {},
   "outputs": [],
   "source": [
    "X = Xy_exp_train_val.drop(columns=['B_C2H6', 'B_C3H8', 'B_iC4H10', 'B_nC4H10'])\n",
    "y = Xy_exp_train_val.loc[:, ['B_C2H6', 'B_C3H8', 'B_iC4H10', 'B_nC4H10']]"
   ]
  },
  {
   "cell_type": "code",
   "execution_count": 17,
   "metadata": {},
   "outputs": [],
   "source": [
    "from hyperopt import hp, fmin, tpe"
   ]
  },
  {
   "cell_type": "code",
   "execution_count": 18,
   "metadata": {},
   "outputs": [],
   "source": [
    "def return_best_cb_model(X_tr, y_tr, X_test, y_test, X, y, num_of_evals = 10):\n",
    "    \n",
    "    def hyperopt_opt_score(params):\n",
    "        reg = CatBoostRegressor(allow_writing_files=False, verbose=False, **params, random_seed=42, objective='MAPE',\n",
    "                                cat_features=['day_of_month']).fit(X_tr, y_tr)\n",
    "        \n",
    "        y_pred = reg.predict(X_test)\n",
    "        \n",
    "        return np.mean(np.abs((y_test - y_pred) / y_test)) * 100\n",
    "        \n",
    "    cb_space = {\n",
    "        'eta': hp.uniform('eta', 0.01, 0.10),\n",
    "        'n_estimators': hp.choice('n_estimators', np.arange(200, 501, 50)),\n",
    "        'depth': hp.choice('depth', np.arange(2, 6, 1)),\n",
    "        'subsample': hp.uniform('subsample', 0.4, 1.0),\n",
    "        'rsm': hp.uniform('rsm', 0.2, 1.0),\n",
    "        'l2_leaf_reg': hp.choice('l2_leaf_reg', np.arange(5, 14, 2))\n",
    "    }\n",
    "    \n",
    "    best_params = fmin(fn = hyperopt_opt_score, space = cb_space, algo = tpe.suggest, max_evals = num_of_evals)\n",
    "    \n",
    "    best_params['n_estimators'] = np.arange(200, 501, 50)[best_params['n_estimators']]\n",
    "    best_params['l2_leaf_reg'] = np.arange(5, 14, 2)[best_params['l2_leaf_reg']]\n",
    "    best_params['depth'] = np.arange(2, 6, 1)[best_params['depth']]\n",
    "    \n",
    "    print(best_params)\n",
    "    \n",
    "    reg = CatBoostRegressor(allow_writing_files=False, verbose=200, **best_params, random_seed=42, objective='MAPE',\n",
    "                            cat_features=['day_of_month']).fit(X, y)\n",
    "    return reg"
   ]
  },
  {
   "cell_type": "code",
   "execution_count": null,
   "metadata": {},
   "outputs": [],
   "source": [
    "models = {}\n",
    "for col in y.columns:\n",
    "    models[col] = return_best_cb_model(X_train, y_train[col], X_valid, y_valid[col], X, y[col], num_of_evals = 150)"
   ]
  },
  {
   "cell_type": "code",
   "execution_count": null,
   "metadata": {},
   "outputs": [],
   "source": [
    "X_test = Xy_exp_test.drop(columns=['B_C2H6', 'B_C3H8', 'B_iC4H10', 'B_nC4H10'])\n",
    "y_pred = Xy_exp_test.loc[:, ['B_C2H6', 'B_C3H8', 'B_iC4H10', 'B_nC4H10']].copy()\n",
    "for col in y_pred.columns:\n",
    "    y_pred[col] = models[col].predict(X_test)"
   ]
  },
  {
   "cell_type": "code",
   "execution_count": null,
   "metadata": {},
   "outputs": [],
   "source": [
    "y_pred.to_csv('submission.csv')"
   ]
  }
 ],
 "metadata": {
  "kernelspec": {
   "display_name": "Python 3",
   "language": "python",
   "name": "python3"
  },
  "language_info": {
   "codemirror_mode": {
    "name": "ipython",
    "version": 3
   },
   "file_extension": ".py",
   "mimetype": "text/x-python",
   "name": "python",
   "nbconvert_exporter": "python",
   "pygments_lexer": "ipython3",
   "version": "3.8.1"
  }
 },
 "nbformat": 4,
 "nbformat_minor": 4
}
