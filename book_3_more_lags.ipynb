{
 "cells": [
  {
   "cell_type": "code",
   "execution_count": 1,
   "metadata": {},
   "outputs": [],
   "source": [
    "import numpy as np\n",
    "import pandas as pd"
   ]
  },
  {
   "cell_type": "markdown",
   "metadata": {},
   "source": [
    "## Скачиваем смотрим соединяем"
   ]
  },
  {
   "cell_type": "code",
   "execution_count": 2,
   "metadata": {},
   "outputs": [
    {
     "data": {
      "text/plain": [
       "((5808, 11), (5808, 5), (3984, 11), (3984, 5))"
      ]
     },
     "execution_count": 2,
     "metadata": {},
     "output_type": "execute_result"
    }
   ],
   "source": [
    "X_train_val = pd.read_csv('train_features.csv', header=0)\n",
    "y_train_val = pd.read_csv('train_targets.csv', header=0)\n",
    "X_test = pd.read_csv('test_features.csv', header=0)\n",
    "y_test = pd.read_csv('sample_submission.csv')\n",
    "X_train_val.shape, y_train_val.shape, X_test.shape, y_test.shape"
   ]
  },
  {
   "cell_type": "code",
   "execution_count": 3,
   "metadata": {},
   "outputs": [],
   "source": [
    "for data in [X_train_val, X_test, y_train_val, y_test]:\n",
    "    data.timestamp = pd.to_datetime(data.timestamp, format='%Y-%m-%d %H:%M:%S')"
   ]
  },
  {
   "cell_type": "code",
   "execution_count": 4,
   "metadata": {},
   "outputs": [
    {
     "data": {
      "text/plain": [
       "(Timestamp('2020-01-01 00:00:00'),\n",
       " Timestamp('2020-04-30 23:30:00'),\n",
       " Timestamp('2020-05-01 00:00:00'),\n",
       " Timestamp('2020-07-22 23:30:00'))"
      ]
     },
     "execution_count": 4,
     "metadata": {},
     "output_type": "execute_result"
    }
   ],
   "source": [
    "t_train_start, t_train_end, t_test_start, t_test_end = X_train_val.timestamp.min(), X_train_val.timestamp.max(), \\\n",
    "                                                       X_test.timestamp.min(), X_test.timestamp.max()\n",
    "t_train_start, t_train_end, t_test_start, t_test_end"
   ]
  },
  {
   "cell_type": "code",
   "execution_count": 5,
   "metadata": {},
   "outputs": [],
   "source": [
    "Xy_train_val = pd.merge(X_train_val, y_train_val, on='timestamp')\n",
    "Xy_train_val.set_index('timestamp', inplace=True)"
   ]
  },
  {
   "cell_type": "code",
   "execution_count": 6,
   "metadata": {},
   "outputs": [],
   "source": [
    "Xy_test = pd.merge(X_test, y_test, on='timestamp')\n",
    "Xy_test.set_index('timestamp', inplace=True)"
   ]
  },
  {
   "cell_type": "code",
   "execution_count": 7,
   "metadata": {},
   "outputs": [
    {
     "data": {
      "text/plain": [
       "((5808, 14), (3984, 14))"
      ]
     },
     "execution_count": 7,
     "metadata": {},
     "output_type": "execute_result"
    }
   ],
   "source": [
    "Xy_train_val.shape, Xy_test.shape"
   ]
  },
  {
   "cell_type": "markdown",
   "metadata": {},
   "source": [
    "## Графики"
   ]
  },
  {
   "cell_type": "code",
   "execution_count": 8,
   "metadata": {},
   "outputs": [],
   "source": [
    "import matplotlib.pyplot as plt\n",
    "import seaborn as sns"
   ]
  },
  {
   "cell_type": "code",
   "execution_count": 17,
   "metadata": {},
   "outputs": [],
   "source": [
    "def draw_corr_with_lags(a, b, start=1, stop=220, step=1):\n",
    "    data = Xy_train_val.loc[:, [a, b]]\n",
    "    for i in range(start, stop, step):\n",
    "        data[f'{a}_{i}'] = data[a].shift(i)\n",
    "    \n",
    "    data.drop(columns=a, inplace=True)\n",
    "    \n",
    "    plt.figure(figsize=(20, 2))\n",
    "    sns.heatmap(data.corr(method='pearson').iloc[:1, 1:], annot=True, annot_kws={'size': 11}, linewidths=1)\n",
    "    # sns.heatmap(data.corr(method='spearman').iloc[:1, 1:], annot=True, annot_kws={'size': 11}, linewidths=1)"
   ]
  },
  {
   "cell_type": "markdown",
   "metadata": {},
   "source": [
    "### Убираем выбросы"
   ]
  },
  {
   "cell_type": "code",
   "execution_count": 10,
   "metadata": {},
   "outputs": [],
   "source": [
    "Xy_train_val = Xy_train_val.mask(Xy_train_val.sub(Xy_train_val.mean()).div(Xy_train_val.std()).abs().gt(2))"
   ]
  },
  {
   "cell_type": "markdown",
   "metadata": {},
   "source": [
    "### A_C2H6"
   ]
  },
  {
   "cell_type": "code",
   "execution_count": 11,
   "metadata": {},
   "outputs": [],
   "source": [
    "# fig, ax = plt.subplots(1, 1, figsize=(16, 5))\n",
    "\n",
    "# sns.lineplot(data=Xy_train_val[Xy_train_val.index.month == 3].shift(192), x='timestamp', y='A_C2H6', label='A')\n",
    "# sns.lineplot(data=Xy_train_val[Xy_train_val.index.month == 3], x='timestamp', y='B_C2H6', label='B')"
   ]
  },
  {
   "cell_type": "code",
   "execution_count": 37,
   "metadata": {},
   "outputs": [
    {
     "data": {
      "image/png": "[encoded data removed]",
      "text/plain": [
       "<Figure size 1440x144 with 2 Axes>"
      ]
     },
     "metadata": {
      "needs_background": "light"
     },
     "output_type": "display_data"
    }
   ],
   "source": [
    "draw_corr_with_lags('A_C2H6', 'B_C2H6', 140, 250, 4)"
   ]
  },
  {
   "cell_type": "markdown",
   "metadata": {},
   "source": [
    "### A_C3H8"
   ]
  },
  {
   "cell_type": "code",
   "execution_count": 38,
   "metadata": {},
   "outputs": [],
   "source": [
    "# fig, ax = plt.subplots(1, 1, figsize=(16, 5))\n",
    "\n",
    "# sns.lineplot(data=Xy_train_val.shift(192), x='timestamp', y='A_C3H8', label='A')\n",
    "# sns.lineplot(data=Xy_train_val, x='timestamp', y='B_C3H8', label='B')"
   ]
  },
  {
   "cell_type": "code",
   "execution_count": 39,
   "metadata": {},
   "outputs": [
    {
     "data": {
      "image/png": "[encoded data removed]",
      "text/plain": [
       "<Figure size 1440x144 with 2 Axes>"
      ]
     },
     "metadata": {
      "needs_background": "light"
     },
     "output_type": "display_data"
    }
   ],
   "source": [
    "draw_corr_with_lags('A_C3H8', 'B_C3H8', 140, 250, 4)"
   ]
  },
  {
   "cell_type": "markdown",
   "metadata": {},
   "source": [
    "### A_iC4H10"
   ]
  },
  {
   "cell_type": "code",
   "execution_count": 40,
   "metadata": {},
   "outputs": [],
   "source": [
    "# fig, ax = plt.subplots(1, 1, figsize=(16, 5))\n",
    "\n",
    "# sns.lineplot(data=Xy_train_val.shift(192), x='timestamp', y='A_iC4H10', label='A')\n",
    "# sns.lineplot(data=Xy_train_val, x='timestamp', y='B_iC4H10', label='B')"
   ]
  },
  {
   "cell_type": "code",
   "execution_count": 41,
   "metadata": {},
   "outputs": [
    {
     "data": {
      "image/png": "[encoded data removed]",
      "text/plain": [
       "<Figure size 1440x144 with 2 Axes>"
      ]
     },
     "metadata": {
      "needs_background": "light"
     },
     "output_type": "display_data"
    }
   ],
   "source": [
    "draw_corr_with_lags('A_iC4H10', 'B_iC4H10', 140, 250, 4)"
   ]
  },
  {
   "cell_type": "markdown",
   "metadata": {},
   "source": [
    "### A_nC4H10"
   ]
  },
  {
   "cell_type": "code",
   "execution_count": 42,
   "metadata": {},
   "outputs": [],
   "source": [
    "# fig, ax = plt.subplots(1, 1, figsize=(16, 5))\n",
    "\n",
    "# sns.lineplot(data=Xy_train_val.shift(192), x='timestamp', y='A_nC4H10', label='A')\n",
    "# sns.lineplot(data=Xy_train_val, x='timestamp', y='B_nC4H10', label='B')"
   ]
  },
  {
   "cell_type": "code",
   "execution_count": 44,
   "metadata": {},
   "outputs": [
    {
     "data": {
      "image/png": "[encoded data removed]",
      "text/plain": [
       "<Figure size 1440x144 with 2 Axes>"
      ]
     },
     "metadata": {
      "needs_background": "light"
     },
     "output_type": "display_data"
    }
   ],
   "source": [
    "draw_corr_with_lags('A_nC4H10', 'B_nC4H10', 140, 250, 4)"
   ]
  },
  {
   "cell_type": "code",
   "execution_count": 33,
   "metadata": {},
   "outputs": [],
   "source": [
    "Xy_train_val['A_C2H6'].fillna(Xy_train_val['B_C2H6'].shift(-192), inplace=True)\n",
    "Xy_train_val['A_C3H8'].fillna(Xy_train_val['B_C3H8'].shift(-192), inplace=True)\n",
    "Xy_train_val['A_iC4H10'].fillna(Xy_train_val['B_iC4H10'].shift(-192), inplace=True)\n",
    "Xy_train_val['A_nC4H10'].fillna(Xy_train_val['B_nC4H10'].shift(-192), inplace=True)"
   ]
  },
  {
   "cell_type": "code",
   "execution_count": 45,
   "metadata": {},
   "outputs": [
    {
     "data": {
      "text/plain": [
       "((9592, 163),\n",
       " 163,\n",
       " Index(['A_rate', 'A_CH4', 'A_C2H6', 'A_C3H8', 'A_iC4H10', 'A_nC4H10',\n",
       "        'A_iC5H12', 'A_nC5H12', 'A_C6H14', 'B_rate',\n",
       "        ...\n",
       "        'A_nC4H10_diff', 'A_iC5H12_1', 'A_iC5H12_diff', 'A_nC5H12_1',\n",
       "        'A_nC5H12_diff', 'A_C6H14_1', 'A_C6H14_diff', 'B_rate_1', 'B_rate_diff',\n",
       "        'day_of_month'],\n",
       "       dtype='object', length=163))"
      ]
     },
     "execution_count": 45,
     "metadata": {},
     "output_type": "execute_result"
    }
   ],
   "source": [
    "Xy = pd.concat([Xy_train_val, Xy_test], axis=0)\n",
    "\n",
    "for name in ['A_C2H6', 'A_C3H8', 'A_iC4H10', 'A_nC4H10']:\n",
    "    for i in range(176, 208, 1):\n",
    "        Xy.loc[:, f'{name}_{i}'] = Xy.loc[:, name].shift(i)\n",
    "\n",
    "for name in ['A_rate', 'A_CH4', 'A_C2H6', 'A_C3H8', 'A_iC4H10', 'A_nC4H10', \n",
    "             'A_iC5H12', 'A_nC5H12', 'A_C6H14', 'B_rate']:\n",
    "    Xy.loc[:, f'{name}_1'] = Xy.loc[:, name].shift(1)\n",
    "    Xy.loc[:, f'{name}_diff'] = Xy.loc[:, name].diff(1)\n",
    "\n",
    "Xy = Xy.iloc[200:]\n",
    "\n",
    "Xy['day_of_month'] = Xy.index.day.to_numpy()\n",
    "\n",
    "Xy.shape, len(Xy.columns), Xy.columns"
   ]
  },
  {
   "cell_type": "code",
   "execution_count": 46,
   "metadata": {},
   "outputs": [
    {
     "data": {
      "text/plain": [
       "((5608, 163), (3984, 163))"
      ]
     },
     "execution_count": 46,
     "metadata": {},
     "output_type": "execute_result"
    }
   ],
   "source": [
    "Xy_exp_train_val, Xy_exp_test = Xy.loc[t_train_start:t_train_end], Xy.loc[t_test_start:t_test_end]\n",
    "Xy_exp_train_val.shape, Xy_exp_test.shape"
   ]
  },
  {
   "cell_type": "code",
   "execution_count": 47,
   "metadata": {},
   "outputs": [
    {
     "name": "stderr",
     "output_type": "stream",
     "text": [
      "/Library/Frameworks/Python.framework/Versions/3.8/lib/python3.8/site-packages/pandas/core/generic.py:6245: SettingWithCopyWarning: \n",
      "A value is trying to be set on a copy of a slice from a DataFrame\n",
      "\n",
      "See the caveats in the documentation: https://pandas.pydata.org/pandas-docs/stable/user_guide/indexing.html#returning-a-view-versus-a-copy\n",
      "  self._update_inplace(new_data)\n"
     ]
    }
   ],
   "source": [
    "values_for_filling_na = Xy_exp_train_val.mean(axis=0).values\n",
    "for i, col in enumerate(Xy_exp_train_val.columns):\n",
    "    Xy_exp_train_val[col].fillna(values_for_filling_na[i], inplace=True)\n",
    "    Xy_exp_test[col].fillna(values_for_filling_na[i], inplace=True)"
   ]
  },
  {
   "cell_type": "code",
   "execution_count": 48,
   "metadata": {},
   "outputs": [
    {
     "data": {
      "text/plain": [
       "((5608, 163), (3984, 163))"
      ]
     },
     "execution_count": 48,
     "metadata": {},
     "output_type": "execute_result"
    }
   ],
   "source": [
    "Xy_exp_train_val.shape, Xy_exp_test.shape"
   ]
  },
  {
   "cell_type": "code",
   "execution_count": 49,
   "metadata": {},
   "outputs": [
    {
     "data": {
      "text/plain": [
       "((3925, 159), (1683, 159), (3925, 4), (1683, 4))"
      ]
     },
     "execution_count": 49,
     "metadata": {},
     "output_type": "execute_result"
    }
   ],
   "source": [
    "from sklearn.model_selection import train_test_split\n",
    "X_train, X_valid, y_train, y_valid = train_test_split(Xy_exp_train_val.drop(columns=['B_C2H6', 'B_C3H8', \n",
    "                                                                                     'B_iC4H10', 'B_nC4H10']), \n",
    "                                                      Xy_exp_train_val.loc[:, ['B_C2H6', 'B_C3H8', \n",
    "                                                                               'B_iC4H10', 'B_nC4H10']], \n",
    "                                                      test_size=0.3, shuffle=False)\n",
    "X_train.shape, X_valid.shape, y_train.shape, y_valid.shape"
   ]
  },
  {
   "cell_type": "code",
   "execution_count": 50,
   "metadata": {},
   "outputs": [],
   "source": [
    "from catboost import CatBoostRegressor\n",
    "from lightgbm import LGBMRegressor\n",
    "from sklearn.linear_model import Lasso"
   ]
  },
  {
   "cell_type": "code",
   "execution_count": 51,
   "metadata": {},
   "outputs": [],
   "source": [
    "mape = lambda y_true, y_pred: np.mean(((y_true - y_pred) / y_true).abs().mean().values) * 100"
   ]
  },
  {
   "cell_type": "code",
   "execution_count": 52,
   "metadata": {},
   "outputs": [],
   "source": [
    "X = Xy_exp_train_val.drop(columns=['B_C2H6', 'B_C3H8', 'B_iC4H10', 'B_nC4H10'])\n",
    "y = Xy_exp_train_val.loc[:, ['B_C2H6', 'B_C3H8', 'B_iC4H10', 'B_nC4H10']]"
   ]
  },
  {
   "cell_type": "code",
   "execution_count": 53,
   "metadata": {},
   "outputs": [],
   "source": [
    "from hyperopt import hp, fmin, tpe"
   ]
  },
  {
   "cell_type": "code",
   "execution_count": 58,
   "metadata": {},
   "outputs": [],
   "source": [
    "def return_best_cb_model(X_tr, y_tr, X_test, y_test, X, y, num_of_evals = 10):\n",
    "    \n",
    "    def hyperopt_opt_score(params):\n",
    "        reg = CatBoostRegressor(allow_writing_files=False, verbose=False, **params, random_seed=42, objective='MAPE',\n",
    "                                cat_features=['day_of_month']).fit(X_tr, y_tr)\n",
    "        \n",
    "        y_pred = reg.predict(X_test)\n",
    "        \n",
    "        return np.mean(np.abs((y_test - y_pred) / y_test)) * 100\n",
    "        \n",
    "    cb_space = {\n",
    "        'eta': hp.uniform('eta', 0.01, 0.20),\n",
    "        'n_estimators': hp.choice('n_estimators', np.arange(200, 1000, 100)),\n",
    "        'depth': hp.choice('depth', np.arange(3, 8, 1)),\n",
    "        'subsample': hp.uniform('subsample', 0.5, 1.0),\n",
    "        'rsm': hp.uniform('rsm', 0.5, 1.0),\n",
    "        'l2_leaf_reg': hp.choice('l2_leaf_reg', np.arange(3, 10, 2))\n",
    "    }\n",
    "    \n",
    "    best_params = fmin(fn = hyperopt_opt_score, space = cb_space, algo = tpe.suggest, max_evals = num_of_evals)\n",
    "    \n",
    "    best_params['n_estimators'] = np.arange(200, 1000, 100)[best_params['n_estimators']]\n",
    "    best_params['l2_leaf_reg'] = np.arange(3, 10, 2)[best_params['l2_leaf_reg']]\n",
    "    best_params['depth'] = np.arange(3, 8, 1)[best_params['depth']]\n",
    "    \n",
    "    print(best_params)\n",
    "    \n",
    "    reg = CatBoostRegressor(allow_writing_files=False, verbose=200, **best_params, random_seed=42, objective='MAPE',\n",
    "                            cat_features=['day_of_month']).fit(X, y)\n",
    "    return reg"
   ]
  },
  {
   "cell_type": "code",
   "execution_count": null,
   "metadata": {},
   "outputs": [],
   "source": [
    "def return_best_lgbm_model(X_tr, y_tr, X_test, y_test, X, y, num_of_evals = 10):\n",
    "    \n",
    "    def hyperopt_opt_score(params):\n",
    "        reg = LGBMRegressor(verbose=False, **params, random_seed=42, objective='mape').fit(X_tr, y_tr)\n",
    "        \n",
    "        y_pred = reg.predict(X_test)\n",
    "        \n",
    "        return np.mean(np.abs((y_test - y_pred) / y_test)) * 100\n",
    "        \n",
    "    cb_space = {\n",
    "        'learning_rate': hp.uniform('learning_rate', 0.01, 0.20),\n",
    "        'num_iterations': hp.choice('num_iterations', np.arange(200, 1000, 100)),\n",
    "        'max_depth': hp.choice('max_depth', np.arange(4, 11, 1)),\n",
    "        'num_leaves': hp.choice('num_leaves', np.arange(20, 140, 4)),\n",
    "        'rsm': hp.uniform('rsm', 0.5, 1.0),\n",
    "        'l2_leaf_reg': hp.choice('l2_leaf_reg', np.arange(3, 10, 2))\n",
    "    }\n",
    "    \n",
    "    best_params = fmin(fn = hyperopt_opt_score, space = cb_space, algo = tpe.suggest, max_evals = num_of_evals)\n",
    "    \n",
    "    best_params['n_estimators'] = np.arange(200, 1000, 100)[best_params['n_estimators']]\n",
    "    best_params['l2_leaf_reg'] = np.arange(3, 10, 2)[best_params['l2_leaf_reg']]\n",
    "    best_params['max_depth'] = np.arange(3, 8, 1)[best_params['max_depth']]\n",
    "    \n",
    "    print(best_params)\n",
    "    \n",
    "    reg = CatBoostRegressor(allow_writing_files=False, verbose=200, **best_params, random_seed=42, objective='MAPE',\n",
    "                            cat_features=['day_of_month']).fit(X, y)\n",
    "    return reg"
   ]
  },
  {
   "cell_type": "code",
   "execution_count": 59,
   "metadata": {
    "scrolled": false
   },
   "outputs": [
    {
     "name": "stdout",
     "output_type": "stream",
     "text": [
      "100%|██████████| 100/100 [17:20<00:00, 10.41s/trial, best loss: 7.979763107671606]\n",
      "{'depth': 3, 'eta': 0.01590226327983149, 'l2_leaf_reg': 5, 'n_estimators': 600, 'rsm': 0.9475345530699254, 'subsample': 0.8675940302902865}\n",
      "0:\tlearn: 0.1908802\ttotal: 10.3ms\tremaining: 6.14s\n",
      "200:\tlearn: 0.0432437\ttotal: 1.9s\tremaining: 3.77s\n",
      "400:\tlearn: 0.0364418\ttotal: 3.66s\tremaining: 1.82s\n",
      "599:\tlearn: 0.0347107\ttotal: 5.4s\tremaining: 0us\n",
      "100%|██████████| 100/100 [17:32<00:00, 10.53s/trial, best loss: 2.1154336077914535]\n",
      "{'depth': 3, 'eta': 0.02449435024749859, 'l2_leaf_reg': 7, 'n_estimators': 200, 'rsm': 0.7580872733339655, 'subsample': 0.7159961675690216}\n",
      "0:\tlearn: 0.0286030\ttotal: 7.53ms\tremaining: 1.5s\n",
      "199:\tlearn: 0.0163002\ttotal: 1.47s\tremaining: 0us\n",
      "100%|██████████| 100/100 [15:20<00:00,  9.20s/trial, best loss: 1.514389218126773]\n",
      "{'depth': 3, 'eta': 0.011618239504716698, 'l2_leaf_reg': 7, 'n_estimators': 200, 'rsm': 0.7111601470545491, 'subsample': 0.6818904995788772}\n",
      "0:\tlearn: 0.0262211\ttotal: 7.29ms\tremaining: 1.45s\n",
      "199:\tlearn: 0.0138990\ttotal: 1.55s\tremaining: 0us\n",
      "100%|██████████| 100/100 [15:13<00:00,  9.13s/trial, best loss: 0.9125120560040213]\n",
      "{'depth': 3, 'eta': 0.01000232959588633, 'l2_leaf_reg': 9, 'n_estimators': 200, 'rsm': 0.7635525319178502, 'subsample': 0.7942502757096228}\n",
      "0:\tlearn: 0.0233665\ttotal: 7.51ms\tremaining: 1.49s\n",
      "199:\tlearn: 0.0116608\ttotal: 1.53s\tremaining: 0us\n"
     ]
    }
   ],
   "source": [
    "models = {}\n",
    "for col in y.columns:\n",
    "    models[col] = return_best_cb_model(X_train, y_train[col], X_valid, y_valid[col], X, y[col], num_of_evals = 100)"
   ]
  },
  {
   "cell_type": "code",
   "execution_count": null,
   "metadata": {},
   "outputs": [],
   "source": [
    "models = {}\n",
    "for col in y.columns:\n",
    "    models[col] = return_best_model(X_train, y_train[col], X_valid, y_valid[col], X, y[col], num_of_evals=50)"
   ]
  },
  {
   "cell_type": "code",
   "execution_count": 60,
   "metadata": {},
   "outputs": [],
   "source": [
    "X_test = Xy_exp_test.drop(columns=['B_C2H6', 'B_C3H8', 'B_iC4H10', 'B_nC4H10'])\n",
    "y_pred = Xy_exp_test.loc[:, ['B_C2H6', 'B_C3H8', 'B_iC4H10', 'B_nC4H10']].copy()\n",
    "for col in y_pred.columns:\n",
    "    y_pred[col] = models[col].predict(X_test)"
   ]
  },
  {
   "cell_type": "code",
   "execution_count": 61,
   "metadata": {},
   "outputs": [],
   "source": [
    "y_pred.to_csv('submission_9_TS_morelags.csv')"
   ]
  }
 ],
 "metadata": {
  "kernelspec": {
   "display_name": "Python 3",
   "language": "python",
   "name": "python3"
  },
  "language_info": {
   "codemirror_mode": {
    "name": "ipython",
    "version": 3
   },
   "file_extension": ".py",
   "mimetype": "text/x-python",
   "name": "python",
   "nbconvert_exporter": "python",
   "pygments_lexer": "ipython3",
   "version": "3.8.1"
  }
 },
 "nbformat": 4,
 "nbformat_minor": 4
}
